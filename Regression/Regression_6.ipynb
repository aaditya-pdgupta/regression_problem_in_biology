{
 "cells": [
  {
   "cell_type": "markdown",
   "metadata": {
    "execution": {
     "iopub.execute_input": "2022-09-06T21:51:47.054091Z",
     "iopub.status.busy": "2022-09-06T21:51:47.053609Z",
     "iopub.status.idle": "2022-09-06T21:51:47.061732Z",
     "shell.execute_reply": "2022-09-06T21:51:47.060360Z",
     "shell.execute_reply.started": "2022-09-06T21:51:47.054057Z"
    }
   },
   "source": [
    "# Part 1"
   ]
  },
  {
   "cell_type": "code",
   "execution_count": 1,
   "metadata": {
    "execution": {
     "iopub.execute_input": "2022-09-07T07:21:40.514515Z",
     "iopub.status.busy": "2022-09-07T07:21:40.514073Z",
     "iopub.status.idle": "2022-09-07T07:21:40.521262Z",
     "shell.execute_reply": "2022-09-07T07:21:40.520176Z",
     "shell.execute_reply.started": "2022-09-07T07:21:40.514478Z"
    }
   },
   "outputs": [],
   "source": [
    "# module to make available data structures and routines\n",
    "# for numerics\n",
    "import numpy as np \n",
    "\n",
    "# modules necessary for plotting\n",
    "import matplotlib.pyplot as plt\n",
    "\n",
    "#module to make best-fit parameters using a least square fit \n",
    "from scipy.optimize import curve_fit\n",
    "\n",
    "\n",
    "\n",
    "def Hill_function(x, LogEC50, Hillslope):\n",
    "    \n",
    "    y = Bottom + (Top - Bottom)/(1 + 10**(LogEC50-x) * Hillslope)\n",
    "    return y\n",
    "\n",
    "\n"
   ]
  },
  {
   "cell_type": "code",
   "execution_count": 2,
   "metadata": {
    "execution": {
     "iopub.execute_input": "2022-09-07T07:21:41.510140Z",
     "iopub.status.busy": "2022-09-07T07:21:41.509718Z",
     "iopub.status.idle": "2022-09-07T07:21:41.517901Z",
     "shell.execute_reply": "2022-09-07T07:21:41.516984Z",
     "shell.execute_reply.started": "2022-09-07T07:21:41.510097Z"
    }
   },
   "outputs": [],
   "source": [
    "xdata = [-7.0,-6.5,-6.0,-5.5,-5.0,-4.5,-4.0,-3.5,-3.0]\n",
    "ydata = [4.0,4.0,14.0,14.0,24.0,24.0,25.0,31.0,29.0]\n",
    "bottom = [1.0,5.0,14.0,19.0,23.0,26.0,26.0,27.0,27.0]\n",
    "top = [5.0,8.0,12.0,22.0,21.0,24.0,24.0,26.0,25.0]\n",
    "\n",
    "xdata = np.array(xdata)\n",
    "ydata = np.array(ydata)\n",
    "Bottom = np.array(bottom)\n",
    "Top = np.array(top)\n",
    "\n",
    "LogEC50 = 100.\n",
    "Hillslope = 100.\n",
    "\n"
   ]
  },
  {
   "cell_type": "code",
   "execution_count": 3,
   "metadata": {
    "execution": {
     "iopub.execute_input": "2022-09-07T07:21:42.334080Z",
     "iopub.status.busy": "2022-09-07T07:21:42.333375Z",
     "iopub.status.idle": "2022-09-07T07:21:42.341837Z",
     "shell.execute_reply": "2022-09-07T07:21:42.340021Z",
     "shell.execute_reply.started": "2022-09-07T07:21:42.334030Z"
    }
   },
   "outputs": [
    {
     "name": "stderr",
     "output_type": "stream",
     "text": [
      "C:\\Users\\MY PC\\anaconda3\\lib\\site-packages\\scipy\\optimize\\minpack.py:833: OptimizeWarning: Covariance of the parameters could not be estimated\n",
      "  warnings.warn('Covariance of the parameters could not be estimated',\n"
     ]
    }
   ],
   "source": [
    "parameter_Hill_function,covariance_Hill_function = curve_fit(Hill_function, xdata, ydata)"
   ]
  },
  {
   "cell_type": "code",
   "execution_count": 4,
   "metadata": {
    "execution": {
     "iopub.execute_input": "2022-09-07T07:21:42.901954Z",
     "iopub.status.busy": "2022-09-07T07:21:42.900893Z",
     "iopub.status.idle": "2022-09-07T07:21:42.907661Z",
     "shell.execute_reply": "2022-09-07T07:21:42.906252Z",
     "shell.execute_reply.started": "2022-09-07T07:21:42.901908Z"
    }
   },
   "outputs": [],
   "source": [
    "fitted_data = Hill_function(xdata, *parameter_Hill_function)"
   ]
  },
  {
   "cell_type": "markdown",
   "metadata": {},
   "source": [
    "# Plotting the data and fit without error"
   ]
  },
  {
   "cell_type": "code",
   "execution_count": 5,
   "metadata": {
    "execution": {
     "iopub.execute_input": "2022-09-07T07:21:43.982780Z",
     "iopub.status.busy": "2022-09-07T07:21:43.981810Z",
     "iopub.status.idle": "2022-09-07T07:21:44.225285Z",
     "shell.execute_reply": "2022-09-07T07:21:44.224026Z",
     "shell.execute_reply.started": "2022-09-07T07:21:43.982742Z"
    }
   },
   "outputs": [
    {
     "data": {
      "image/png": "[encoded data removed]",
      "text/plain": [
       "<Figure size 432x288 with 1 Axes>"
      ]
     },
     "metadata": {
      "needs_background": "light"
     },
     "output_type": "display_data"
    }
   ],
   "source": [
    "plt.plot(xdata, ydata, 'o', color='blue', label='Mean')\n",
    "plt.plot(xdata, Bottom, 'o', color='red', label='Bottom')\n",
    "plt.plot(xdata, Top, 'o', color='black', label='Top')\n",
    "plt.plot(xdata, fitted_data, label='Fit')\n",
    "plt.ylabel(\"Change in Blood pressure (mmHg)\")\n",
    "plt.xlabel(\"log(Dose)\")\n",
    "plt.legend()\n",
    "plt.grid()\n",
    "#plt.show()\n",
    "plt.savefig(\"fit_data_without_error.pdf\", dpi=400, bbox_inches='tight')"
   ]
  },
  {
   "cell_type": "markdown",
   "metadata": {},
   "source": [
    "### When we have no uncertainity "
   ]
  },
  {
   "cell_type": "code",
   "execution_count": 6,
   "metadata": {},
   "outputs": [
    {
     "name": "stdout",
     "output_type": "stream",
     "text": [
      "chi square value; 11.492316167602208\n",
      "reduced chi square value; 1.641759452514601\n"
     ]
    }
   ],
   "source": [
    "ymeans = ydata\n",
    "y_lin = Hill_function(xdata, *parameter_Hill_function)  \n",
    "dof = len(ymeans) - len(parameter_Hill_function) \n",
    "chi_square_value = sum((ymeans - y_lin)**2/y_lin)\n",
    "red_chi_square_value = (chi_square_value/dof) \n",
    "print(\"chi square value;\",chi_square_value)\n",
    "print(\"reduced chi square value;\",red_chi_square_value) "
   ]
  },
  {
   "cell_type": "markdown",
   "metadata": {},
   "source": [
    "# Part 2"
   ]
  },
  {
   "cell_type": "markdown",
   "metadata": {},
   "source": [
    "# Convert the assymetric error to symmetric error and then run the linear and quadratic fit with error"
   ]
  },
  {
   "cell_type": "code",
   "execution_count": 7,
   "metadata": {
    "execution": {
     "iopub.execute_input": "2022-09-07T07:21:45.501598Z",
     "iopub.status.busy": "2022-09-07T07:21:45.501101Z",
     "iopub.status.idle": "2022-09-07T07:21:45.506550Z",
     "shell.execute_reply": "2022-09-07T07:21:45.505325Z",
     "shell.execute_reply.started": "2022-09-07T07:21:45.501557Z"
    }
   },
   "outputs": [],
   "source": [
    "# Calculate here"
   ]
  },
  {
   "cell_type": "code",
   "execution_count": 8,
   "metadata": {
    "execution": {
     "iopub.execute_input": "2022-09-07T07:21:46.042758Z",
     "iopub.status.busy": "2022-09-07T07:21:46.042334Z",
     "iopub.status.idle": "2022-09-07T07:21:46.050396Z",
     "shell.execute_reply": "2022-09-07T07:21:46.048848Z",
     "shell.execute_reply.started": "2022-09-07T07:21:46.042726Z"
    }
   },
   "outputs": [],
   "source": [
    "# module to make available data structures and routines\n",
    "# for numerics\n",
    "import numpy as np \n",
    "\n",
    "# modules necessary for plotting\n",
    "import matplotlib.pyplot as plt\n",
    "\n",
    "#module to make best-fit parameters using a least square fit \n",
    "from scipy.optimize import curve_fit\n",
    "\n",
    "\n",
    "\n",
    "def linear(x, slope, intercept):\n",
    "    \n",
    "    y = slope*x + intercept\n",
    "    return y\n",
    "\n",
    "\n",
    "def quadratic(x, a, b, c):\n",
    "    \n",
    "    y = a*x**2 + b*x + c\n",
    "    return y\n",
    "\n",
    "\n",
    "def cubic(x, a, b, c, d):\n",
    "    \n",
    "    y = a*x**3 + b*x**2 + c*x + d\n",
    "    return y\n"
   ]
  },
  {
   "cell_type": "code",
   "execution_count": 9,
   "metadata": {
    "execution": {
     "iopub.execute_input": "2022-09-07T07:21:46.567611Z",
     "iopub.status.busy": "2022-09-07T07:21:46.567114Z",
     "iopub.status.idle": "2022-09-07T07:21:46.578961Z",
     "shell.execute_reply": "2022-09-07T07:21:46.577694Z",
     "shell.execute_reply.started": "2022-09-07T07:21:46.567572Z"
    }
   },
   "outputs": [],
   "source": [
    "xdata = [-7.0,-6.5,-6.0,-5.5,-5.0,-4.5,-4.0,-3.5,-3.0]\n",
    "ydata = [4.0,4.0,14.0,14.0,24.0,24.0,25.0,31.0,29.0]\n",
    "bottom = [1.0,5.0,14.0,19.0,23.0,26.0,26.0,27.0,27.0]\n",
    "top = [5.0,8.0,12.0,22.0,21.0,24.0,24.0,26.0,25.0]\n",
    "\n",
    "error_lower = [3.0, 1.0, 0.0, 5.0, 1.0, 2.0, 1.0, 4.0, 2.0]\n",
    "error_upper = [1.0, 4.0, 2.0, 8.0, 3.0, 0.0, 1.0, 5.0, 4.0]\n",
    "\n",
    "\n",
    "xdata = np.array(xdata)\n",
    "ydata = np.array(ydata)\n",
    "Bottom = np.array(bottom)\n",
    "Top = np.array(top)\n",
    "\n",
    "lower_error = np.array(error_lower)\n",
    "upper_error = np.array(error_upper)\n",
    "\n",
    "asymmetric_error = np.array(list(zip(lower_error, upper_error))).T\n",
    "symmetric_error = np.sqrt(lower_error**2 + upper_error**2)"
   ]
  },
  {
   "cell_type": "markdown",
   "metadata": {},
   "source": [
    "# Plotting the data with assymetric error"
   ]
  },
  {
   "cell_type": "code",
   "execution_count": 10,
   "metadata": {
    "execution": {
     "iopub.execute_input": "2022-09-07T07:21:47.768467Z",
     "iopub.status.busy": "2022-09-07T07:21:47.768031Z",
     "iopub.status.idle": "2022-09-07T07:21:48.111307Z",
     "shell.execute_reply": "2022-09-07T07:21:48.109835Z",
     "shell.execute_reply.started": "2022-09-07T07:21:47.768407Z"
    }
   },
   "outputs": [
    {
     "data": {
      "image/png": "[encoded data removed]",
      "text/plain": [
       "<Figure size 432x288 with 1 Axes>"
      ]
     },
     "metadata": {
      "needs_background": "light"
     },
     "output_type": "display_data"
    }
   ],
   "source": [
    "plt.errorbar(xdata, ydata, yerr=asymmetric_error, fmt='.', ecolor = 'red', label='Data')\n",
    "plt.ylabel(\"Change in Blood pressure (mmHg)\")\n",
    "plt.xlabel(\"log(Dose)\")\n",
    "plt.legend()\n",
    "plt.grid()\n",
    "#plt.show()\n",
    "plt.savefig(\"data_with_assymetric_error.pdf\", dpi=400, bbox_inches='tight')"
   ]
  },
  {
   "cell_type": "code",
   "execution_count": 11,
   "metadata": {},
   "outputs": [
    {
     "data": {
      "image/png": "[encoded data removed]",
      "text/plain": [
       "<Figure size 432x288 with 1 Axes>"
      ]
     },
     "metadata": {
      "needs_background": "light"
     },
     "output_type": "display_data"
    }
   ],
   "source": [
    "plt.errorbar(xdata, ydata, yerr=symmetric_error, fmt='.', ecolor = 'red', label='Data')\n",
    "plt.legend()\n",
    "plt.ylabel(\"Change in Blood pressure (mmHg)\")\n",
    "plt.xlabel(\"log(Dose)\")\n",
    "plt.legend()\n",
    "plt.grid()\n",
    "#plt.show()\n",
    "plt.savefig(\"data_with_symetric_error.pdf\", dpi=400, bbox_inches='tight')"
   ]
  },
  {
   "cell_type": "code",
   "execution_count": 12,
   "metadata": {
    "execution": {
     "iopub.execute_input": "2022-09-07T07:21:48.441266Z",
     "iopub.status.busy": "2022-09-07T07:21:48.440864Z",
     "iopub.status.idle": "2022-09-07T07:21:48.447966Z",
     "shell.execute_reply": "2022-09-07T07:21:48.446737Z",
     "shell.execute_reply.started": "2022-09-07T07:21:48.441234Z"
    }
   },
   "outputs": [],
   "source": [
    "parameter_linear,covariance_linear = curve_fit(linear, xdata, ydata, sigma=symmetric_error, absolute_sigma=True)"
   ]
  },
  {
   "cell_type": "code",
   "execution_count": 13,
   "metadata": {
    "execution": {
     "iopub.execute_input": "2022-09-07T07:22:55.348483Z",
     "iopub.status.busy": "2022-09-07T07:22:55.348049Z",
     "iopub.status.idle": "2022-09-07T07:22:55.354552Z",
     "shell.execute_reply": "2022-09-07T07:22:55.353234Z",
     "shell.execute_reply.started": "2022-09-07T07:22:55.348450Z"
    }
   },
   "outputs": [],
   "source": [
    "fitted_data = linear(xdata, *parameter_linear)"
   ]
  },
  {
   "cell_type": "code",
   "execution_count": 14,
   "metadata": {
    "execution": {
     "iopub.execute_input": "2022-09-07T07:23:34.157927Z",
     "iopub.status.busy": "2022-09-07T07:23:34.157481Z",
     "iopub.status.idle": "2022-09-07T07:23:34.341705Z",
     "shell.execute_reply": "2022-09-07T07:23:34.340621Z",
     "shell.execute_reply.started": "2022-09-07T07:23:34.157889Z"
    }
   },
   "outputs": [
    {
     "data": {
      "image/png": "[encoded data removed]",
      "text/plain": [
       "<Figure size 432x288 with 1 Axes>"
      ]
     },
     "metadata": {
      "needs_background": "light"
     },
     "output_type": "display_data"
    }
   ],
   "source": [
    "plt.errorbar(xdata, ydata, yerr=symmetric_error, fmt='.', ecolor = 'red', label='Data')\n",
    "plt.plot(xdata, fitted_data, color='black', label='Fit')\n",
    "plt.ylabel(\"Change in Blood pressure (mmHg)\")\n",
    "plt.xlabel(\"log(Dose)\")\n",
    "plt.legend()\n",
    "plt.grid()\n",
    "#plt.show()\n",
    "plt.savefig(\"linear_function.pdf\", dpi=400, bbox_inches='tight')\n"
   ]
  },
  {
   "cell_type": "markdown",
   "metadata": {},
   "source": [
    "### When we have estimated uncertainities in the data, then we can estimate the goodness of fit by computing the reduced chi-squared statistic. For a linear fit to a set of N data points {x,y} that have estimated uncertainities , values of {symettric_error},\n",
    "$$\\chi^{2} = \\sum_{i=1}^{N} \\frac{ydata - y_lin} {symmetric_ error^{2}}$$\n",
    "### where ydata is our observed value , y_lin is our fitted value  and symmetric_error is our uncertainity ."
   ]
  },
  {
   "cell_type": "code",
   "execution_count": 15,
   "metadata": {},
   "outputs": [
    {
     "name": "stdout",
     "output_type": "stream",
     "text": [
      "chi square value; 6.4188307807668945\n",
      "reduced chi square value; 0.9169758258238421\n"
     ]
    }
   ],
   "source": [
    "ymeans = ydata\n",
    "y_lin = linear(xdata, *parameter_linear)  \n",
    "dof = len(ymeans) - len(parameter_linear) \n",
    "chi_square_value = sum((ymeans - y_lin)**2/symmetric_error**2)\n",
    "red_chi_square_value = (chi_square_value/dof) \n",
    "print(\"chi square value;\",chi_square_value)\n",
    "print(\"reduced chi square value;\",red_chi_square_value) "
   ]
  },
  {
   "cell_type": "code",
   "execution_count": 16,
   "metadata": {},
   "outputs": [],
   "source": [
    "parameter_quadratic,covariance_quadratic = curve_fit(quadratic, xdata, ydata, sigma=symmetric_error, absolute_sigma=True)"
   ]
  },
  {
   "cell_type": "code",
   "execution_count": 17,
   "metadata": {},
   "outputs": [],
   "source": [
    "fitted_data = quadratic(xdata, *parameter_quadratic) "
   ]
  },
  {
   "cell_type": "code",
   "execution_count": 18,
   "metadata": {},
   "outputs": [
    {
     "data": {
      "image/png": "[encoded data removed]",
      "text/plain": [
       "<Figure size 432x288 with 1 Axes>"
      ]
     },
     "metadata": {
      "needs_background": "light"
     },
     "output_type": "display_data"
    },
    {
     "data": {
      "text/plain": [
       "<Figure size 432x288 with 0 Axes>"
      ]
     },
     "metadata": {},
     "output_type": "display_data"
    }
   ],
   "source": [
    "plt.errorbar(xdata, ydata, yerr=symmetric_error, fmt='.', ecolor = 'red', label='Data')\n",
    "plt.plot(xdata, fitted_data, color ='black', label='Fit')\n",
    "plt.ylabel(\"Change in Blood pressure (mmHg)\")\n",
    "plt.xlabel(\"log(Dose)\")\n",
    "plt.legend()\n",
    "plt.grid()\n",
    "plt.show()\n",
    "plt.savefig(\"quadratic_function.pdf\", dpi=400, bbox_inches='tight')"
   ]
  },
  {
   "cell_type": "code",
   "execution_count": 19,
   "metadata": {},
   "outputs": [
    {
     "name": "stdout",
     "output_type": "stream",
     "text": [
      "chi square value; 1.0\n",
      "reduced chi square value; 0.16666666666666666\n"
     ]
    }
   ],
   "source": [
    "ymeans = ydata\n",
    "y_lin = quadratic(xdata, *parameter_quadratic)  \n",
    "dof = len(ymeans) - len(parameter_quadratic) \n",
    "chi_square_value = sum((ymeans - y_lin)**2//symmetric_error**2)\n",
    "red_chi_square_value = (chi_square_value/dof) \n",
    "print(\"chi square value;\",chi_square_value)\n",
    "print(\"reduced chi square value;\",red_chi_square_value) "
   ]
  },
  {
   "cell_type": "code",
   "execution_count": 20,
   "metadata": {},
   "outputs": [],
   "source": [
    "parameter_cubic,covariance_cubic = curve_fit(cubic, xdata, ydata, sigma=symmetric_error, absolute_sigma=True)"
   ]
  },
  {
   "cell_type": "code",
   "execution_count": 21,
   "metadata": {},
   "outputs": [],
   "source": [
    "fitted_data = cubic(xdata, *parameter_cubic) "
   ]
  },
  {
   "cell_type": "code",
   "execution_count": 22,
   "metadata": {},
   "outputs": [
    {
     "data": {
      "image/png": "[encoded data removed]",
      "text/plain": [
       "<Figure size 432x288 with 1 Axes>"
      ]
     },
     "metadata": {
      "needs_background": "light"
     },
     "output_type": "display_data"
    }
   ],
   "source": [
    "plt.errorbar(xdata, ydata, yerr=symmetric_error, fmt='.', ecolor = 'red', label='Data')\n",
    "plt.plot(xdata, fitted_data, color='black', label='Fit')\n",
    "plt.ylabel(\"Change in Blood pressure (mmHg)\")\n",
    "plt.xlabel(\"log(Dose)\")\n",
    "plt.legend()\n",
    "plt.grid()\n",
    "#plt.show()\n",
    "plt.savefig(\"cubic_function.pdf\", dpi=400, bbox_inches='tight')"
   ]
  },
  {
   "cell_type": "code",
   "execution_count": 23,
   "metadata": {},
   "outputs": [
    {
     "name": "stdout",
     "output_type": "stream",
     "text": [
      "chi square value; 1.0\n",
      "reduced chi square value; 0.2\n"
     ]
    }
   ],
   "source": [
    "ymeans = ydata\n",
    "y_lin = cubic(xdata, *parameter_cubic)  \n",
    "dof = len(ymeans) - len(parameter_cubic) \n",
    "chi_square_value = sum((ymeans - y_lin)**2//symmetric_error**2)\n",
    "red_chi_square_value = (chi_square_value/dof) \n",
    "print(\"chi square value;\",chi_square_value)\n",
    "print(\"reduced chi square value;\",red_chi_square_value) "
   ]
  },
  {
   "cell_type": "markdown",
   "metadata": {},
   "source": [
    "|Model        | |Chi-square value| |Dof| |Reduced chi-square value|\n",
    "|-------------| |----------------| |---| |------------------------|\n",
    "|Hill_function| |11.4923         | |7  | |1.6417                  |\n",
    "|linear       | |6.4188          | |7  | |0.9169                  |\n",
    "|quadratic    | |1.0             | |6  | |0.1666                  |\n",
    "|cubic        | |1.0             | |5  | |0.2000                  |"
   ]
  },
  {
   "cell_type": "code",
   "execution_count": null,
   "metadata": {},
   "outputs": [],
   "source": []
  }
 ],
 "metadata": {
  "kernelspec": {
   "display_name": "Python 3 (ipykernel)",
   "language": "python",
   "name": "python3"
  },
  "language_info": {
   "codemirror_mode": {
    "name": "ipython",
    "version": 3
   },
   "file_extension": ".py",
   "mimetype": "text/x-python",
   "name": "python",
   "nbconvert_exporter": "python",
   "pygments_lexer": "ipython3",
   "version": "3.9.12"
  }
 },
 "nbformat": 4,
 "nbformat_minor": 4
}
