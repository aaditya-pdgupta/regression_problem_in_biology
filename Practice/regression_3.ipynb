{
 "cells": [
  {
   "cell_type": "code",
   "execution_count": 2,
   "id": "6f17aa61",
   "metadata": {},
   "outputs": [],
   "source": [
    "# module to make available data structures and routines\n",
    "# for numerics\n",
    "import numpy as np \n",
    "\n",
    "# modules necessary for plotting\n",
    "import matplotlib.pyplot as plt\n",
    "\n",
    "#module to make best-fit parameters using a least square fit \n",
    "from scipy.optimize import curve_fit"
   ]
  },
  {
   "cell_type": "code",
   "execution_count": 3,
   "id": "68a80067",
   "metadata": {},
   "outputs": [],
   "source": [
    "def Lennard_jones(r, epsilon, sigma): # here epsilon and sigma are the parameter\n",
    "    V = 4*epsilon*((sigma/r)**12-(sigma/r)**6)\n",
    "    return V"
   ]
  },
  {
   "cell_type": "code",
   "execution_count": 4,
   "id": "c4fb2b0a",
   "metadata": {},
   "outputs": [],
   "source": [
    "distances = [2.875, 3.0, 3.125, 3.25, 3.375, 3.5, 3.75, 4.0, 4.5, 5.0, 6.0] # We have a data as distances which should be decimal form.\n",
    "energies = [0.35334378061169025, -2.7260131253801405, -4.102738968283382, -4.557042640311599, -4.537519193684069, -4.296388508321034, -3.6304745046204117, -3.0205368595885536, -2.1929538006724814, -1.7245616790238782, -1.2500789753171557] # We have a data as energies which should be decimal form."
   ]
  },
  {
   "cell_type": "code",
   "execution_count": 5,
   "id": "da0694ee",
   "metadata": {},
   "outputs": [],
   "source": [
    "distances = np.array(distances)# We are changing the list into array form.\n",
    "energies = np.array(energies)"
   ]
  },
  {
   "cell_type": "code",
   "execution_count": 6,
   "id": "3f3adad2",
   "metadata": {},
   "outputs": [],
   "source": [
    "# initial guess of the values of epsilon and sigma\n",
    "epsilon = 4.857 # always we can not use 100 .\n",
    "sigma = 2.893"
   ]
  },
  {
   "cell_type": "code",
   "execution_count": 7,
   "id": "86634e61",
   "metadata": {},
   "outputs": [],
   "source": [
    "guess = [epsilon, sigma]# we can not direct guess for this and if we guess as previous our data will not fit so this is done."
   ]
  },
  {
   "cell_type": "code",
   "execution_count": 8,
   "id": "17868859",
   "metadata": {},
   "outputs": [],
   "source": [
    "parameter_Lennard_jones,covariance_Lennard_jones = curve_fit(Lennard_jones, distances, energies, p0=guess)# p0=guess is done for above"
   ]
  },
  {
   "cell_type": "code",
   "execution_count": 9,
   "id": "5aded96e",
   "metadata": {},
   "outputs": [],
   "source": [
    "fitted_data_Lennard_jones = Lennard_jones(distances, *parameter_Lennard_jones) # here fitted data have also same name of function. "
   ]
  },
  {
   "cell_type": "code",
   "execution_count": 10,
   "id": "9c40b2ac",
   "metadata": {},
   "outputs": [],
   "source": [
    "Uncertainity = np.sqrt(np.diag(covariance_Lennard_jones))"
   ]
  },
  {
   "cell_type": "code",
   "execution_count": 18,
   "id": "20d5a28d",
   "metadata": {},
   "outputs": [],
   "source": [
    "epsilon_Uncertainity = Uncertainity[0]\n",
    "sigma_Uncertainity = Uncertainity[1]"
   ]
  },
  {
   "cell_type": "code",
   "execution_count": 28,
   "id": "f704eb8f",
   "metadata": {},
   "outputs": [
    {
     "data": {
      "image/png": "[encoded data removed]",
      "text/plain": [
       "<Figure size 432x288 with 1 Axes>"
      ]
     },
     "metadata": {
      "needs_background": "light"
     },
     "output_type": "display_data"
    }
   ],
   "source": [
    "plt.plot(distances, energies, 'o', label = 'data')\n",
    "plt.plot(distances, fitted_data_Lennard_jones,color='r',label='fit')# same as above here we have same name of function here also.\n",
    "plt.legend()\n",
    "plt.show()"
   ]
  },
  {
   "cell_type": "code",
   "execution_count": 29,
   "id": "1c1291e5",
   "metadata": {},
   "outputs": [
    {
     "name": "stdout",
     "output_type": "stream",
     "text": [
      "epsilon_Lennard_jones = 4.857196089358103\n"
     ]
    }
   ],
   "source": [
    "print(\"epsilon_Lennard_jones =\", parameter_Lennard_jones[0])# Here we print the parameter. here we used epsilon_Lennard_jones because we want the parameter of a which is stored in Lennard_jones."
   ]
  },
  {
   "cell_type": "code",
   "execution_count": 30,
   "id": "c9f5e23f",
   "metadata": {},
   "outputs": [
    {
     "name": "stdout",
     "output_type": "stream",
     "text": [
      "sigma_Lennard_jones = 2.892743697602381\n"
     ]
    }
   ],
   "source": [
    "print(\"sigma_Lennard_jones =\", parameter_Lennard_jones[1])#Here we print the parameter. here we used sigma_Lennard_jones because we want the parameter of a which is stored in Lennard_jones."
   ]
  },
  {
   "cell_type": "code",
   "execution_count": 31,
   "id": "370d8b19",
   "metadata": {},
   "outputs": [
    {
     "name": "stdout",
     "output_type": "stream",
     "text": [
      "0.3081612372065014\n"
     ]
    }
   ],
   "source": [
    "print(epsilon_Uncertainity)"
   ]
  },
  {
   "cell_type": "code",
   "execution_count": 32,
   "id": "3bbb046e",
   "metadata": {},
   "outputs": [
    {
     "name": "stdout",
     "output_type": "stream",
     "text": [
      "0.013328374227893267\n"
     ]
    }
   ],
   "source": [
    "print(sigma_Uncertainity)"
   ]
  },
  {
   "cell_type": "code",
   "execution_count": null,
   "id": "0a62c36f",
   "metadata": {},
   "outputs": [],
   "source": []
  }
 ],
 "metadata": {
  "kernelspec": {
   "display_name": "Python 3 (ipykernel)",
   "language": "python",
   "name": "python3"
  },
  "language_info": {
   "codemirror_mode": {
    "name": "ipython",
    "version": 3
   },
   "file_extension": ".py",
   "mimetype": "text/x-python",
   "name": "python",
   "nbconvert_exporter": "python",
   "pygments_lexer": "ipython3",
   "version": "3.9.12"
  }
 },
 "nbformat": 4,
 "nbformat_minor": 5
}
