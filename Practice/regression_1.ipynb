{
 "cells": [
  {
   "cell_type": "code",
   "execution_count": 2,
   "id": "168ba165",
   "metadata": {},
   "outputs": [],
   "source": [
    "# module to make available data structures and routines\n",
    "# for numerics\n",
    "import numpy as np \n",
    "\n",
    "# modules necessary for plotting\n",
    "import matplotlib.pyplot as plt\n",
    "\n",
    "#module to make best-fit parameters using a least square fit \n",
    "from scipy.optimize import curve_fit"
   ]
  },
  {
   "cell_type": "code",
   "execution_count": 3,
   "id": "cc4603f8",
   "metadata": {},
   "outputs": [],
   "source": [
    "def linear(x, a, b): # here a and b are the parameters \n",
    "    y = a*x + b\n",
    "    return y\n",
    "\n",
    "def exponential(x, a, b, c): # here a, b and c are parameters\n",
    "    y = a * np.exp(-b * x) + c\n",
    "    return y"
   ]
  },
  {
   "cell_type": "code",
   "execution_count": 4,
   "id": "ec789544",
   "metadata": {},
   "outputs": [],
   "source": [
    "xdata = [3.,4.,5.,10.,12.,13.] # We have input for,x we must use decimal in data not integer.\n",
    "ydata = [7.,8.,9.,2.,1.,3.]  # We have input for y, we must use decimal in data not integer."
   ]
  },
  {
   "cell_type": "code",
   "execution_count": 5,
   "id": "38faa982",
   "metadata": {},
   "outputs": [],
   "source": [
    "xdata = np.array(xdata) # We are changing the list into array form.\n",
    "ydata = np.array(ydata)"
   ]
  },
  {
   "cell_type": "code",
   "execution_count": 6,
   "id": "97368a6d",
   "metadata": {},
   "outputs": [],
   "source": [
    "# initial guess of the values of a, b and c\n",
    "a = 100.\n",
    "b = 100.\n",
    "c = 100."
   ]
  },
  {
   "cell_type": "code",
   "execution_count": 7,
   "id": "b67e8979",
   "metadata": {},
   "outputs": [
    {
     "name": "stderr",
     "output_type": "stream",
     "text": [
      "/tmp/ipykernel_7607/2786717178.py:6: RuntimeWarning: overflow encountered in exp\n",
      "  y = a * np.exp(-b * x) + c\n"
     ]
    }
   ],
   "source": [
    "parameter_linear,covariance_linear = curve_fit(linear, xdata, ydata) # Here the same name should be wriiten what is the name of the function. Here we have name of function as linear.\n",
    "parameter_exponential,covariance_exponential = curve_fit(exponential, xdata, ydata) # as above we name of function  as exponential.\n"
   ]
  },
  {
   "cell_type": "code",
   "execution_count": 8,
   "id": "808e2de0",
   "metadata": {},
   "outputs": [],
   "source": [
    "fitted_data_linear = linear(xdata, *parameter_linear) # here fitted data have also same same of function.\n",
    "fitted_data_exponential = exponential(xdata, *parameter_exponential) "
   ]
  },
  {
   "cell_type": "code",
   "execution_count": 9,
   "id": "d30a8ddb",
   "metadata": {},
   "outputs": [
    {
     "data": {
      "image/png": "[encoded data removed]",
      "text/plain": [
       "<Figure size 432x288 with 1 Axes>"
      ]
     },
     "metadata": {
      "needs_background": "light"
     },
     "output_type": "display_data"
    }
   ],
   "source": [
    "plt.plot(xdata, ydata, 'o', label = 'data')\n",
    "plt.plot(xdata, fitted_data_linear) # same as above here we have same name of function here also.\n",
    "plt.show()"
   ]
  },
  {
   "cell_type": "code",
   "execution_count": 10,
   "id": "4a6f4a84",
   "metadata": {},
   "outputs": [
    {
     "data": {
      "image/png": "[encoded data removed]",
      "text/plain": [
       "<Figure size 432x288 with 1 Axes>"
      ]
     },
     "metadata": {
      "needs_background": "light"
     },
     "output_type": "display_data"
    }
   ],
   "source": [
    "plt.plot(xdata, ydata, 'o', label = 'data')\n",
    "plt.plot(xdata, fitted_data_exponential)\n",
    "plt.show()"
   ]
  },
  {
   "cell_type": "code",
   "execution_count": 11,
   "id": "ad08b99e",
   "metadata": {},
   "outputs": [
    {
     "name": "stdout",
     "output_type": "stream",
     "text": [
      "a_linear = -0.695957820741836\n"
     ]
    }
   ],
   "source": [
    "print(\"a_linear =\", parameter_linear[0]) # Here we print the parameter. here we used a_linear because we want the parameter of a which is stored in linear.Similarly we can use b and change the 0 and into 1."
   ]
  },
  {
   "cell_type": "code",
   "execution_count": 12,
   "id": "6f8f54b9",
   "metadata": {},
   "outputs": [
    {
     "name": "stdout",
     "output_type": "stream",
     "text": [
      "a_exponential = 37.681120778460865\n"
     ]
    }
   ],
   "source": [
    "print(\"a_exponential =\", parameter_exponential[0]) # here we print the parameter a stored in exponential function so we used the parameter_exponential. And same process can be applied for others parameter. The things to be cared is that the parameter name above should be here also."
   ]
  },
  {
   "cell_type": "markdown",
   "id": "5d30bf64",
   "metadata": {},
   "source": [
    "## Chi-square value calculation"
   ]
  },
  {
   "cell_type": "code",
   "execution_count": 13,
   "id": "50981ae1",
   "metadata": {},
   "outputs": [
    {
     "name": "stdout",
     "output_type": "stream",
     "text": [
      "chi square value; 3.6246322945070917\n",
      "reduced chi square value; 1.2082107648356972\n"
     ]
    }
   ],
   "source": [
    "ymeans = ydata\n",
    "y_exp = exponential(xdata, *parameter_exponential) # same name should be here where parameter is stored.\n",
    "dof = len(ymeans) - len(parameter_exponential)   # dof means degree of fredoom\n",
    "chi_square_value = sum((ymeans - y_exp)**2/y_exp) # it is a formula of chi-square value\n",
    "red_chi_square_value = (chi_square_value/dof) # it is a formula of reduced chi square value\n",
    "print(\"chi square value;\",chi_square_value) # printing the value of chi square value and chi square  value near to 1is considered good\n",
    "print(\"reduced chi square value;\",red_chi_square_value) # printing the value of reduced chi square value "
   ]
  },
  {
   "cell_type": "code",
   "execution_count": 14,
   "id": "61c8a03b",
   "metadata": {},
   "outputs": [
    {
     "name": "stdout",
     "output_type": "stream",
     "text": [
      "chi square value; 3.8540911938078173\n",
      "reduced chi square value; 0.9635227984519543\n"
     ]
    }
   ],
   "source": [
    "ymeans = ydata\n",
    "y_lin = linear(xdata, *parameter_linear)  # same name should be here where parameter is stored.\n",
    "dof = len(ymeans) - len(parameter_linear) # dof means degree of fredoom\n",
    "chi_square_value = sum((ymeans - y_lin)**2/y_lin)# it is a formula of chi-square value\n",
    "red_chi_square_value = (chi_square_value/dof) #  it is a formula of reduced chi square value\n",
    "print(\"chi square value;\",chi_square_value)# printing the value of chi square value and chi square  value near to 1is considered good\n",
    "print(\"reduced chi square value;\",red_chi_square_value)  # printing the value of reduced chi square value "
   ]
  },
  {
   "cell_type": "code",
   "execution_count": null,
   "id": "6c3d83d4",
   "metadata": {},
   "outputs": [],
   "source": []
  }
 ],
 "metadata": {
  "kernelspec": {
   "display_name": "Python 3 (ipykernel)",
   "language": "python",
   "name": "python3"
  },
  "language_info": {
   "codemirror_mode": {
    "name": "ipython",
    "version": 3
   },
   "file_extension": ".py",
   "mimetype": "text/x-python",
   "name": "python",
   "nbconvert_exporter": "python",
   "pygments_lexer": "ipython3",
   "version": "3.9.12"
  }
 },
 "nbformat": 4,
 "nbformat_minor": 5
}
