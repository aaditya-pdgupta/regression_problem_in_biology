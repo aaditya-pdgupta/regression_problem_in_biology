{
 "cells": [
  {
   "cell_type": "code",
   "execution_count": 2,
   "id": "932a78ad",
   "metadata": {},
   "outputs": [],
   "source": [
    "# module to make available data structures and routines\n",
    "# for numerics\n",
    "import numpy as np \n",
    "\n",
    "# modules necessary for plotting\n",
    "import matplotlib.pyplot as plt\n",
    "\n",
    "#module to make best-fit parameters using a least square fit \n",
    "from scipy.optimize import curve_fit"
   ]
  },
  {
   "cell_type": "code",
   "execution_count": 3,
   "id": "0713c2cf",
   "metadata": {},
   "outputs": [],
   "source": [
    "def Gauss(x, A, B): # here A and B are the parameters \n",
    "    y = A*np.exp(-1*B*x**2)\n",
    "    return y"
   ]
  },
  {
   "cell_type": "code",
   "execution_count": 4,
   "id": "4a43bc07",
   "metadata": {},
   "outputs": [],
   "source": [
    "xdata = [ -10.0, -9.0, -8.0, -7.0, -6.0, -5.0, -4.0, -3.0, -2.0, -1.0, 0.0, 1.0, 2.0, 3.0, 4.0, 5.0, 6.0, 7.0, 8.0, 9.0, 10.0] # We have a data as x and it should be in decimal form not in integer form.\n",
    "ydata =  [1.2, 4.2, 6.7, 8.3, 10.6, 11.7, 13.5, 14.5, 15.7, 16.1, 16.6, 16.0, 15.4, 14.4, 14.2, 12.7, 10.3, 8.6, 6.1, 3.9, 2.1] # We have a data as y and it should be in decimal form not in integer form."
   ]
  },
  {
   "cell_type": "code",
   "execution_count": 5,
   "id": "49de96df",
   "metadata": {},
   "outputs": [],
   "source": [
    "xdata = np.array(xdata)# We are changing the list into array form.\n",
    "ydata = np.array(ydata)"
   ]
  },
  {
   "cell_type": "code",
   "execution_count": 6,
   "id": "b3908bb7",
   "metadata": {},
   "outputs": [],
   "source": [
    "# initial guess of the values of A and B\n",
    "A = 100.\n",
    "B = 100."
   ]
  },
  {
   "cell_type": "code",
   "execution_count": 7,
   "id": "c99b6a9b",
   "metadata": {},
   "outputs": [
    {
     "name": "stderr",
     "output_type": "stream",
     "text": [
      "/tmp/ipykernel_48996/2913975687.py:2: RuntimeWarning: overflow encountered in exp\n",
      "  y = A*np.exp(-1*B*x**2)\n"
     ]
    }
   ],
   "source": [
    "parameter_Gauss,covariance_Gauss = curve_fit(Gauss, xdata, ydata) # Here the same name should be wriiten what is the name of the function. Here we have name of function as Gauss.\n"
   ]
  },
  {
   "cell_type": "code",
   "execution_count": 8,
   "id": "5018f831",
   "metadata": {},
   "outputs": [],
   "source": [
    "fitted_data_Gauss = Gauss(xdata, *parameter_Gauss) # here fitted data have also same name of function. "
   ]
  },
  {
   "cell_type": "code",
   "execution_count": 9,
   "id": "4dd664f5",
   "metadata": {},
   "outputs": [],
   "source": [
    "Uncertainity = np.sqrt(np.diag(covariance_Gauss))"
   ]
  },
  {
   "cell_type": "code",
   "execution_count": 10,
   "id": "d2214725",
   "metadata": {},
   "outputs": [],
   "source": [
    "A_Uncertainity = Uncertainity[0]\n",
    "B_Uncertainity = Uncertainity[1]"
   ]
  },
  {
   "cell_type": "code",
   "execution_count": 11,
   "id": "f5a0b95d",
   "metadata": {},
   "outputs": [
    {
     "data": {
      "image/png": "[encoded data removed]",
      "text/plain": [
       "<Figure size 432x288 with 1 Axes>"
      ]
     },
     "metadata": {
      "needs_background": "light"
     },
     "output_type": "display_data"
    }
   ],
   "source": [
    "plt.plot(xdata,ydata,'o',label='data')\n",
    "plt.plot(xdata,fitted_data_Gauss,color='r',label='fit')\n",
    "plt.legend() # same as above here we have same name of function here also.\n",
    "plt.show()"
   ]
  },
  {
   "cell_type": "code",
   "execution_count": 12,
   "id": "269241ec",
   "metadata": {},
   "outputs": [
    {
     "name": "stdout",
     "output_type": "stream",
     "text": [
      "A_Gauss = 16.934286340519687\n"
     ]
    }
   ],
   "source": [
    "print(\"A_Gauss =\", parameter_Gauss[0]) # Here we print the parameter. here we used A_Gauss because we want the parameter of a which is stored in Gauss."
   ]
  },
  {
   "cell_type": "code",
   "execution_count": 13,
   "id": "813c47ee",
   "metadata": {},
   "outputs": [
    {
     "name": "stdout",
     "output_type": "stream",
     "text": [
      "B_Gauss = 0.015739600927241554\n"
     ]
    }
   ],
   "source": [
    "print(\"B_Gauss =\", parameter_Gauss[1]) # Here we print the parameter. here we used B_Gauss because we want the parameter of a which is stored in Gauss"
   ]
  },
  {
   "cell_type": "code",
   "execution_count": 14,
   "id": "a1c1257b",
   "metadata": {},
   "outputs": [
    {
     "name": "stdout",
     "output_type": "stream",
     "text": [
      "0.3565808164327187\n"
     ]
    }
   ],
   "source": [
    "print(A_Uncertainity)"
   ]
  },
  {
   "cell_type": "code",
   "execution_count": 15,
   "id": "a103b822",
   "metadata": {},
   "outputs": [
    {
     "name": "stdout",
     "output_type": "stream",
     "text": [
      "0.000865200776238388\n"
     ]
    }
   ],
   "source": [
    "print(B_Uncertainity)"
   ]
  },
  {
   "cell_type": "code",
   "execution_count": 16,
   "id": "ba1034f1",
   "metadata": {},
   "outputs": [
    {
     "name": "stdout",
     "output_type": "stream",
     "text": [
      "chi square value; 2.9101039583022668\n",
      "reduced chi square value; 0.1531633662264351\n"
     ]
    }
   ],
   "source": [
    "ymeans = ydata\n",
    "y_lin = Gauss(xdata, *parameter_Gauss)  # same name should be here where parameter is stored.\n",
    "dof = len(ymeans) - len(parameter_Gauss) # dof means degree of fredoom\n",
    "chi_square_value = sum((ymeans - y_lin)**2/y_lin)# it is a formula of chi-square value\n",
    "red_chi_square_value = (chi_square_value/dof) #  it is a formula of reduced chi square value\n",
    "print(\"chi square value;\",chi_square_value)# printing the value of chi square value and chi square  value near to 1is considered good\n",
    "print(\"reduced chi square value;\",red_chi_square_value)  # printing the value of reduced chi square value "
   ]
  },
  {
   "cell_type": "code",
   "execution_count": 18,
   "id": "6dc04430",
   "metadata": {},
   "outputs": [],
   "source": [
    "def cos_func(x, D, E):  # here D and E are the parameters \n",
    "    y = D*np.cos(E*x)\n",
    "    return y"
   ]
  },
  {
   "cell_type": "code",
   "execution_count": 19,
   "id": "6341f49a",
   "metadata": {},
   "outputs": [],
   "source": [
    "xdata = [ -10.0, -9.0, -8.0, -7.0, -6.0, -5.0, -4.0, -3.0, -2.0, -1.0, 0.0, 1.0, 2.0, 3.0, 4.0, 5.0, 6.0, 7.0, 8.0, 9.0, 10.0]# We have a data as x and it should be in decimal form not in integer form.\n",
    "ydata =  [1.2, 4.2, 6.7, 8.3, 10.6, 11.7, 13.5, 14.5, 15.7, 16.1, 16.6, 16.0, 15.4, 14.4, 14.2, 12.7, 10.3, 8.6, 6.1, 3.9, 2.1]# We have a data as y and it should be in decimal form not in integer form."
   ]
  },
  {
   "cell_type": "code",
   "execution_count": 20,
   "id": "0081b83e",
   "metadata": {},
   "outputs": [],
   "source": [
    "xdata = np.array(xdata)# We are changing the list into array form.\n",
    "ydata = np.array(ydata)"
   ]
  },
  {
   "cell_type": "code",
   "execution_count": 21,
   "id": "e154ee6b",
   "metadata": {},
   "outputs": [],
   "source": [
    "# initial guess of the values of D and E\n",
    "D = 20. # always we can not use 100 .\n",
    "E = 0.3"
   ]
  },
  {
   "cell_type": "code",
   "execution_count": 22,
   "id": "ff45917f",
   "metadata": {},
   "outputs": [],
   "source": [
    "guess = [D, E] # we can not direct guess for this and if we guess as previous our data will not fit so this is done."
   ]
  },
  {
   "cell_type": "code",
   "execution_count": 23,
   "id": "2d63bc70",
   "metadata": {},
   "outputs": [],
   "source": [
    "parameter_cos_func,covariance_cos_func = curve_fit(cos_func, xdata, ydata, p0=guess) # p0=guess is done for above"
   ]
  },
  {
   "cell_type": "code",
   "execution_count": 24,
   "id": "3e48fc76",
   "metadata": {},
   "outputs": [],
   "source": [
    "fitted_data_cos_func = cos_func(xdata, *parameter_cos_func) # here fitted data have also same name of function. "
   ]
  },
  {
   "cell_type": "code",
   "execution_count": 25,
   "id": "5724380e",
   "metadata": {},
   "outputs": [],
   "source": [
    "Uncertainity = np.sqrt(np.diag(covariance_cos_func))"
   ]
  },
  {
   "cell_type": "code",
   "execution_count": 26,
   "id": "98062ddc",
   "metadata": {},
   "outputs": [],
   "source": [
    "D_Uncertainity = Uncertainity[0]\n",
    "E_Uncertainity = Uncertainity[1]"
   ]
  },
  {
   "cell_type": "code",
   "execution_count": 27,
   "id": "44dfb262",
   "metadata": {},
   "outputs": [
    {
     "data": {
      "image/png": "[encoded data removed]",
      "text/plain": [
       "<Figure size 432x288 with 1 Axes>"
      ]
     },
     "metadata": {
      "needs_background": "light"
     },
     "output_type": "display_data"
    }
   ],
   "source": [
    "plt.plot(xdata,ydata,'o',label='data')\n",
    "plt.plot(xdata,fitted_data_cos_func,color='r',label='fit')\n",
    "plt.legend()# same as above here we have same name of function here also.\n",
    "plt.show()"
   ]
  },
  {
   "cell_type": "code",
   "execution_count": 28,
   "id": "957f216d",
   "metadata": {},
   "outputs": [
    {
     "name": "stdout",
     "output_type": "stream",
     "text": [
      "D_cos_func = 16.314732635593224\n"
     ]
    }
   ],
   "source": [
    "print(\"D_cos_func =\", parameter_cos_func[0]) # Here we print the parameter. here we used D_cos_func because we want the parameter of a which is stored in cos_func."
   ]
  },
  {
   "cell_type": "code",
   "execution_count": 29,
   "id": "ff00649f",
   "metadata": {},
   "outputs": [
    {
     "name": "stdout",
     "output_type": "stream",
     "text": [
      "E_cos_func = 0.1464940226155505\n"
     ]
    }
   ],
   "source": [
    "print(\"E_cos_func =\", parameter_cos_func[1])# Here we print the parameter. here we used E_cos_func because we want the parameter of a which is stored in cos_func."
   ]
  },
  {
   "cell_type": "code",
   "execution_count": 30,
   "id": "7b336ac8",
   "metadata": {},
   "outputs": [
    {
     "name": "stdout",
     "output_type": "stream",
     "text": [
      "0.11091206508239054\n"
     ]
    }
   ],
   "source": [
    "print(D_Uncertainity)"
   ]
  },
  {
   "cell_type": "code",
   "execution_count": 31,
   "id": "fae03c75",
   "metadata": {},
   "outputs": [
    {
     "name": "stdout",
     "output_type": "stream",
     "text": [
      "0.0009022411491572826\n"
     ]
    }
   ],
   "source": [
    "print(E_Uncertainity)"
   ]
  },
  {
   "cell_type": "code",
   "execution_count": 32,
   "id": "37184946",
   "metadata": {},
   "outputs": [
    {
     "name": "stdout",
     "output_type": "stream",
     "text": [
      "chi square value; 0.38559479981381584\n",
      "reduced chi square value; 0.02029446314809557\n"
     ]
    }
   ],
   "source": [
    "ymeans = ydata\n",
    "y_lin = cos_func(xdata, *parameter_cos_func)  # same name should be here where parameter is stored.\n",
    "dof = len(ymeans) - len(parameter_cos_func) # dof means degree of fredoom\n",
    "chi_square_value = sum((ymeans - y_lin)**2/y_lin)# it is a formula of chi-square value\n",
    "red_chi_square_value = (chi_square_value/dof) #  it is a formula of reduced chi square value\n",
    "print(\"chi square value;\",chi_square_value)# printing the value of chi square value and chi square  value near to 1is considered good\n",
    "print(\"reduced chi square value;\",red_chi_square_value)  # printing the value of reduced chi square value "
   ]
  },
  {
   "cell_type": "code",
   "execution_count": null,
   "id": "ce2cf33b",
   "metadata": {},
   "outputs": [],
   "source": []
  }
 ],
 "metadata": {
  "kernelspec": {
   "display_name": "Python 3 (ipykernel)",
   "language": "python",
   "name": "python3"
  },
  "language_info": {
   "codemirror_mode": {
    "name": "ipython",
    "version": 3
   },
   "file_extension": ".py",
   "mimetype": "text/x-python",
   "name": "python",
   "nbconvert_exporter": "python",
   "pygments_lexer": "ipython3",
   "version": "3.9.12"
  }
 },
 "nbformat": 4,
 "nbformat_minor": 5
}
