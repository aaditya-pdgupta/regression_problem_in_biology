{
 "cells": [
  {
   "cell_type": "markdown",
   "id": "1b421c3c",
   "metadata": {},
   "source": [
    "# Data Fitting with error\n",
    "\n",
    "### Suppose we have a set of N data points {$x_{i}$ , $y_{i}$} and a set of estimated uncertainities for the y values{$\\delta y_{i}$}. We wish to fit the data in function given below.\n",
    "$$y_{x} = ax + b $$\n",
    "### where a and b are the parameters which are adjustable and give best fit. But we need to fit the uncertainities and compute $x^2$ value to determine the quality of the fit.\n",
    "### A table of data is given below;\n",
    "|   x   |   y   | $\\delta y$ |\n",
    "| ----- | ----- | ---------- |\n",
    "| 8.213 | 3.261 | 9.71       |\n",
    "| 7.402 | 2.52  | 5.59       |\n",
    "| 6.876 | 2.239 | 7.08       |\n",
    "| 5.491 | 1.299 | 6.83       |\n",
    "| 5.196 | 1.175 | 8.93       |\n",
    "\n",
    "### Here it is similar to the code for a fit without uncertainties, but this time we read the data store in directory named as Data which contain uncertainties ."
   ]
  },
  {
   "cell_type": "code",
   "execution_count": 3,
   "id": "9be3a16e",
   "metadata": {},
   "outputs": [],
   "source": [
    "# module to make available data structures and routines\n",
    "# for numerics\n",
    "import numpy as np \n",
    "\n",
    "# modules necessary for plotting\n",
    "import matplotlib.pyplot as plt\n",
    "\n",
    "#module to make best-fit parameters using a least square fit \n",
    "from scipy.optimize import curve_fit"
   ]
  },
  {
   "cell_type": "markdown",
   "id": "3d2bd7b0",
   "metadata": {},
   "source": [
    "### We need to define the linear function in order to be fit. Here we have to parameters;intercept and slope. Remaining x and y are the recorded value for eqn."
   ]
  },
  {
   "cell_type": "code",
   "execution_count": 4,
   "id": "cd0fab82",
   "metadata": {},
   "outputs": [],
   "source": [
    "def linearFunc(x,intercept,slope):\n",
    "    y = intercept + slope * x\n",
    "    return y\n"
   ]
  },
  {
   "cell_type": "markdown",
   "id": "93cc05b3",
   "metadata": {},
   "source": [
    "### We have read the data from the directory Data named as FakeData_with_error_txt file. Here the data contain three column i.e x , y and uncertainties column. Here we used np.loadtext to import text files into Numpy arrays and after using np.loadtext we have to use unpack which consists of assigning an iterable of values to a tuple (or list) of variables in a single assignment statement. Note; here d_y is a data of uncertainities."
   ]
  },
  {
   "cell_type": "code",
   "execution_count": 5,
   "id": "ef0cec74",
   "metadata": {},
   "outputs": [],
   "source": [
    "xdata,ydata,d_y = np.loadtxt('../Data/FakeData_with_error.txt',unpack=True)\n"
   ]
  },
  {
   "cell_type": "markdown",
   "id": "d52ee25b",
   "metadata": {},
   "source": [
    "### Here we are converting list into array of all data."
   ]
  },
  {
   "cell_type": "code",
   "execution_count": 6,
   "id": "1314bb6b",
   "metadata": {},
   "outputs": [],
   "source": [
    "xdata = np.array(xdata)\n",
    "ydata = np.array(ydata)\n",
    "d_y = np.array(d_y)"
   ]
  },
  {
   "cell_type": "markdown",
   "id": "ed77236d",
   "metadata": {},
   "source": [
    "### Here we are guessing the initial value of our parameters"
   ]
  },
  {
   "cell_type": "code",
   "execution_count": 7,
   "id": "8a0198c1",
   "metadata": {},
   "outputs": [],
   "source": [
    "intercept = 20.\n",
    "slope = 20."
   ]
  },
  {
   "cell_type": "markdown",
   "id": "3825156c",
   "metadata": {},
   "source": [
    "### Here we stored our guess values. note: guess values are parameters not the input data. Generally python take 1 as guess value but it can not fit all function. Generally it works. But adding guess is better in case of best fit"
   ]
  },
  {
   "cell_type": "code",
   "execution_count": 8,
   "id": "429df999",
   "metadata": {},
   "outputs": [],
   "source": [
    "Guess = [intercept,slope]"
   ]
  },
  {
   "cell_type": "markdown",
   "id": "3451dc36",
   "metadata": {},
   "source": [
    "### we are passing the uncertainities to curve _fit by adding argument sigma= d_y ,po is used as argument for Guess and absolute is used to return the value of argument regardless whether it is positive or negative.eg -3 is if we use absolute it gives 3 which is regardless of sign. parameters-linearFunc means the parameters stored."
   ]
  },
  {
   "cell_type": "code",
   "execution_count": 9,
   "id": "4f322d27",
   "metadata": {},
   "outputs": [],
   "source": [
    "parameter_linearFunc,covariance_linearFunc = curve_fit(linearFunc, xdata, ydata, p0=Guess, sigma=d_y, absolute_sigma=True)"
   ]
  },
  {
   "cell_type": "markdown",
   "id": "6020f3d1",
   "metadata": {},
   "source": [
    "### we are getting the fitted value from curve_fit above."
   ]
  },
  {
   "cell_type": "code",
   "execution_count": 10,
   "id": "e5aac926",
   "metadata": {},
   "outputs": [],
   "source": [
    "fitted_data_linearFunc = linearFunc(xdata, *parameter_linearFunc)"
   ]
  },
  {
   "cell_type": "markdown",
   "id": "1315b4bc",
   "metadata": {},
   "source": [
    "###  Uncertainity or error is a measure of how strongly the parameters depend on the data. "
   ]
  },
  {
   "cell_type": "code",
   "execution_count": 11,
   "id": "4288f867",
   "metadata": {},
   "outputs": [],
   "source": [
    "Uncertainity = np.sqrt(np.diag(covariance_linearFunc))"
   ]
  },
  {
   "cell_type": "markdown",
   "id": "73f87091",
   "metadata": {},
   "source": [
    "### here we are applying the uncertainitiy to the parameters."
   ]
  },
  {
   "cell_type": "code",
   "execution_count": 12,
   "id": "ee50d1f4",
   "metadata": {},
   "outputs": [],
   "source": [
    "intercept_Uncertainity = Uncertainity[0]\n",
    "slope_Uncertainity = Uncertainity[1]"
   ]
  },
  {
   "cell_type": "markdown",
   "id": "35b20ee9",
   "metadata": {},
   "source": [
    "### plt.error bar is used to plot the data. yerr denotes the error in y that is d_y , fmt = 'r.' means red colours with dot. Label for data is data\n",
    "### plt.plot is for fit . Here color is blue and label is fit\n",
    "### Note; here we have a symmetric error because if we look at a point of data we can see the upper part and lower are equally divided and symmetical itself mean equal."
   ]
  },
  {
   "cell_type": "code",
   "execution_count": 13,
   "id": "8309666a",
   "metadata": {},
   "outputs": [
    {
     "data": {
      "image/png": "[encoded data removed]",
      "text/plain": [
       "<Figure size 432x288 with 1 Axes>"
      ]
     },
     "metadata": {
      "needs_background": "light"
     },
     "output_type": "display_data"
    }
   ],
   "source": [
    "#plt.plot(xdata, ydata, 'o', label = 'Data')\n",
    "plt.errorbar(xdata,ydata,yerr=d_y,fmt='r.',label='Data')\n",
    "plt.plot(xdata,fitted_data_linearFunc,color='b',label='fit')\n",
    "plt.legend() \n",
    "plt.show()"
   ]
  },
  {
   "cell_type": "markdown",
   "id": "6006800b",
   "metadata": {},
   "source": [
    "### we are printing the value of parameter stored in parameter_linearFuncc and same is done for down cell so."
   ]
  },
  {
   "cell_type": "code",
   "execution_count": 14,
   "id": "f7353ebf",
   "metadata": {},
   "outputs": [
    {
     "name": "stdout",
     "output_type": "stream",
     "text": [
      "intercept_linearFunc = -2.3430681629006\n"
     ]
    }
   ],
   "source": [
    "print(\"intercept_linearFunc =\", parameter_linearFunc[0])"
   ]
  },
  {
   "cell_type": "code",
   "execution_count": 15,
   "id": "2cd90b7a",
   "metadata": {},
   "outputs": [
    {
     "name": "stdout",
     "output_type": "stream",
     "text": [
      "slope_linearFunc = 0.6656028689365088\n"
     ]
    }
   ],
   "source": [
    "print(\"slope_linearFunc =\", parameter_linearFunc[1])"
   ]
  },
  {
   "cell_type": "markdown",
   "id": "e389f980",
   "metadata": {},
   "source": [
    "### printing the value of uncertainity of intercept and slope."
   ]
  },
  {
   "cell_type": "code",
   "execution_count": 16,
   "id": "027b4eb6",
   "metadata": {},
   "outputs": [
    {
     "name": "stdout",
     "output_type": "stream",
     "text": [
      "0.21311098560911845\n"
     ]
    }
   ],
   "source": [
    "print(intercept_Uncertainity)"
   ]
  },
  {
   "cell_type": "code",
   "execution_count": 17,
   "id": "17419086",
   "metadata": {},
   "outputs": [
    {
     "name": "stdout",
     "output_type": "stream",
     "text": [
      "0.03157719494370256\n"
     ]
    }
   ],
   "source": [
    "print(slope_Uncertainity)"
   ]
  },
  {
   "cell_type": "markdown",
   "id": "b9238f73",
   "metadata": {},
   "source": [
    "### Here we are printing the chi square value and reduced chi square value"
   ]
  },
  {
   "cell_type": "code",
   "execution_count": 19,
   "id": "44684450",
   "metadata": {},
   "outputs": [
    {
     "name": "stdout",
     "output_type": "stream",
     "text": [
      "chi square value; 0.010943260319561514\n",
      "reduced chi square value; 0.003647753439853838\n"
     ]
    }
   ],
   "source": [
    "ymeans = ydata\n",
    "y_lin = linearFunc(xdata, *parameter_linearFunc)  # same name should be here where parameter is stored.\n",
    "dof = len(ymeans) - len(parameter_linearFunc) # dof means degree of fredoom\n",
    "chi_square_value = sum((ymeans - y_lin)**2/y_lin)# it is a formula of chi-square value\n",
    "red_chi_square_value = (chi_square_value/dof) #  it is a formula of reduced chi square value\n",
    "print(\"chi square value;\",chi_square_value)# printing the value of chi square value and chi square  value near to 1is considered good\n",
    "print(\"reduced chi square value;\",red_chi_square_value)  # printing the value of reduced chi square value "
   ]
  },
  {
   "cell_type": "code",
   "execution_count": null,
   "id": "c9423429",
   "metadata": {},
   "outputs": [],
   "source": []
  }
 ],
 "metadata": {
  "kernelspec": {
   "display_name": "Python 3 (ipykernel)",
   "language": "python",
   "name": "python3"
  },
  "language_info": {
   "codemirror_mode": {
    "name": "ipython",
    "version": 3
   },
   "file_extension": ".py",
   "mimetype": "text/x-python",
   "name": "python",
   "nbconvert_exporter": "python",
   "pygments_lexer": "ipython3",
   "version": "3.9.12"
  }
 },
 "nbformat": 4,
 "nbformat_minor": 5
}
