{
 "cells": [
  {
   "cell_type": "code",
   "execution_count": 165,
   "id": "d940cb4a",
   "metadata": {},
   "outputs": [],
   "source": [
    "# module to make available data structures and routines\n",
    "# for numerics\n",
    "import numpy as np \n",
    "\n",
    "# modules necessary for plotting\n",
    "import matplotlib.pyplot as plt\n",
    "\n",
    "#module to make best-fit parameters using a least square fit \n",
    "from scipy.optimize import curve_fit\n",
    "from scipy.optimize import leastsq"
   ]
  },
  {
   "cell_type": "code",
   "execution_count": 166,
   "id": "497f6991",
   "metadata": {},
   "outputs": [],
   "source": [
    "def linear(x, m, c): # here m and x are the parameters \n",
    "    y = m*x + c\n",
    "    return y\n"
   ]
  },
  {
   "cell_type": "code",
   "execution_count": 167,
   "id": "402c4404",
   "metadata": {},
   "outputs": [],
   "source": [
    "xdata = [1.2,2.3,3.2,4.5,5.2,6.2,7.7,8.9,9.9]\n",
    "ydata = [3.3,4.4,7.4,1.1,0.4,9.4,0.99,3.6,8.8]\n",
    "upper_error = [0.1,0.2,0.3,0.4,0.5,0.6,0.7,0.8,0.9]\n",
    "lower_error = [0.03,0.33,1.3,0.42,4.4,5.9,6.66,5.55,9.66]"
   ]
  },
  {
   "cell_type": "code",
   "execution_count": 168,
   "id": "c26452fd",
   "metadata": {},
   "outputs": [],
   "source": [
    "xdata = np.array(xdata)\n",
    "ydata = np.array(ydata)\n",
    "upper_error = np.array(upper_error)\n",
    "lower_error = np.array(lower_error)"
   ]
  },
  {
   "cell_type": "code",
   "execution_count": 169,
   "id": "a603edbe",
   "metadata": {},
   "outputs": [],
   "source": [
    "asymmetric_error = np.array(list(zip(lower_error,upper_error))).T"
   ]
  },
  {
   "cell_type": "code",
   "execution_count": 170,
   "id": "85aa4b05",
   "metadata": {},
   "outputs": [
    {
     "name": "stdout",
     "output_type": "stream",
     "text": [
      "[[0.03 0.33 1.3  0.42 4.4  5.9  6.66 5.55 9.66]\n",
      " [0.1  0.2  0.3  0.4  0.5  0.6  0.7  0.8  0.9 ]]\n"
     ]
    }
   ],
   "source": [
    "print(asymmetric_error)"
   ]
  },
  {
   "cell_type": "code",
   "execution_count": 171,
   "id": "db01149a",
   "metadata": {},
   "outputs": [],
   "source": [
    "m = 100\n",
    "c = 100"
   ]
  },
  {
   "cell_type": "code",
   "execution_count": 172,
   "id": "5612f77e",
   "metadata": {},
   "outputs": [],
   "source": [
    "Guess = [m , c]"
   ]
  },
  {
   "cell_type": "code",
   "execution_count": 173,
   "id": "d7f84956",
   "metadata": {},
   "outputs": [
    {
     "ename": "TypeError",
     "evalue": "least_squares() got an unexpected keyword argument 'yerr'",
     "output_type": "error",
     "traceback": [
      "\u001b[0;31m---------------------------------------------------------------------------\u001b[0m",
      "\u001b[0;31mTypeError\u001b[0m                                 Traceback (most recent call last)",
      "Input \u001b[0;32mIn [173]\u001b[0m, in \u001b[0;36m<cell line: 1>\u001b[0;34m()\u001b[0m\n\u001b[0;32m----> 1\u001b[0m parameter_linear,covariance_linear \u001b[38;5;241m=\u001b[39m \u001b[43mcurve_fit\u001b[49m\u001b[43m(\u001b[49m\u001b[43mlinear\u001b[49m\u001b[43m,\u001b[49m\u001b[43m \u001b[49m\u001b[43mxdata\u001b[49m\u001b[43m,\u001b[49m\u001b[43m \u001b[49m\u001b[43mydata\u001b[49m\u001b[43m,\u001b[49m\u001b[43m \u001b[49m\u001b[43mmethod\u001b[49m\u001b[38;5;241;43m=\u001b[39;49m\u001b[38;5;124;43m'\u001b[39;49m\u001b[38;5;124;43mleast_squares_1m\u001b[39;49m\u001b[38;5;124;43m'\u001b[39;49m\u001b[43m,\u001b[49m\u001b[43m \u001b[49m\u001b[43myerr\u001b[49m\u001b[38;5;241;43m=\u001b[39;49m\u001b[43masymmetric_error\u001b[49m\u001b[43m,\u001b[49m\u001b[43m \u001b[49m\u001b[43mabsolute_yerr\u001b[49m\u001b[38;5;241;43m=\u001b[39;49m\u001b[38;5;28;43;01mTrue\u001b[39;49;00m\u001b[43m,\u001b[49m\u001b[43m \u001b[49m\u001b[43mp0\u001b[49m\u001b[38;5;241;43m=\u001b[39;49m\u001b[43mGuess\u001b[49m\u001b[43m)\u001b[49m\n",
      "File \u001b[0;32m~/anaconda3/lib/python3.9/site-packages/scipy/optimize/minpack.py:800\u001b[0m, in \u001b[0;36mcurve_fit\u001b[0;34m(f, xdata, ydata, p0, sigma, absolute_sigma, check_finite, bounds, method, jac, **kwargs)\u001b[0m\n\u001b[1;32m    797\u001b[0m \u001b[38;5;28;01mif\u001b[39;00m \u001b[38;5;124m'\u001b[39m\u001b[38;5;124mmax_nfev\u001b[39m\u001b[38;5;124m'\u001b[39m \u001b[38;5;129;01mnot\u001b[39;00m \u001b[38;5;129;01min\u001b[39;00m kwargs:\n\u001b[1;32m    798\u001b[0m     kwargs[\u001b[38;5;124m'\u001b[39m\u001b[38;5;124mmax_nfev\u001b[39m\u001b[38;5;124m'\u001b[39m] \u001b[38;5;241m=\u001b[39m kwargs\u001b[38;5;241m.\u001b[39mpop(\u001b[38;5;124m'\u001b[39m\u001b[38;5;124mmaxfev\u001b[39m\u001b[38;5;124m'\u001b[39m, \u001b[38;5;28;01mNone\u001b[39;00m)\n\u001b[0;32m--> 800\u001b[0m res \u001b[38;5;241m=\u001b[39m \u001b[43mleast_squares\u001b[49m\u001b[43m(\u001b[49m\u001b[43mfunc\u001b[49m\u001b[43m,\u001b[49m\u001b[43m \u001b[49m\u001b[43mp0\u001b[49m\u001b[43m,\u001b[49m\u001b[43m \u001b[49m\u001b[43mjac\u001b[49m\u001b[38;5;241;43m=\u001b[39;49m\u001b[43mjac\u001b[49m\u001b[43m,\u001b[49m\u001b[43m \u001b[49m\u001b[43mbounds\u001b[49m\u001b[38;5;241;43m=\u001b[39;49m\u001b[43mbounds\u001b[49m\u001b[43m,\u001b[49m\u001b[43m \u001b[49m\u001b[43mmethod\u001b[49m\u001b[38;5;241;43m=\u001b[39;49m\u001b[43mmethod\u001b[49m\u001b[43m,\u001b[49m\n\u001b[1;32m    801\u001b[0m \u001b[43m                    \u001b[49m\u001b[38;5;241;43m*\u001b[39;49m\u001b[38;5;241;43m*\u001b[39;49m\u001b[43mkwargs\u001b[49m\u001b[43m)\u001b[49m\n\u001b[1;32m    803\u001b[0m \u001b[38;5;28;01mif\u001b[39;00m \u001b[38;5;129;01mnot\u001b[39;00m res\u001b[38;5;241m.\u001b[39msuccess:\n\u001b[1;32m    804\u001b[0m     \u001b[38;5;28;01mraise\u001b[39;00m \u001b[38;5;167;01mRuntimeError\u001b[39;00m(\u001b[38;5;124m\"\u001b[39m\u001b[38;5;124mOptimal parameters not found: \u001b[39m\u001b[38;5;124m\"\u001b[39m \u001b[38;5;241m+\u001b[39m res\u001b[38;5;241m.\u001b[39mmessage)\n",
      "\u001b[0;31mTypeError\u001b[0m: least_squares() got an unexpected keyword argument 'yerr'"
     ]
    }
   ],
   "source": [
    "parameter_linear,covariance_linear = curve_fit(linear, xdata, ydata, method='least_squares_1m', yerr=asymmetric_error, absolute_yerr=True, p0=Guess)"
   ]
  },
  {
   "cell_type": "code",
   "execution_count": null,
   "id": "0137b324",
   "metadata": {},
   "outputs": [],
   "source": []
  },
  {
   "cell_type": "code",
   "execution_count": null,
   "id": "0aa4ce77",
   "metadata": {},
   "outputs": [],
   "source": []
  }
 ],
 "metadata": {
  "kernelspec": {
   "display_name": "Python 3 (ipykernel)",
   "language": "python",
   "name": "python3"
  },
  "language_info": {
   "codemirror_mode": {
    "name": "ipython",
    "version": 3
   },
   "file_extension": ".py",
   "mimetype": "text/x-python",
   "name": "python",
   "nbconvert_exporter": "python",
   "pygments_lexer": "ipython3",
   "version": "3.9.12"
  }
 },
 "nbformat": 4,
 "nbformat_minor": 5
}
